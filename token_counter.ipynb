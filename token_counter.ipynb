{
 "cells": [
  {
   "cell_type": "code",
   "execution_count": null,
   "metadata": {
    "vscode": {
     "languageId": "plaintext"
    }
   },
   "outputs": [],
   "source": [
    "pip install transformers\n",
    "\n",
    "\n",
    "from transformers import GPT2Tokenizer\n",
    "\n",
    "# Load GPT-2 tokenizer\n",
    "tokenizer = GPT2Tokenizer.from_pretrained(\"gpt2\")\n",
    "\n",
    "# Define your prompt text\n",
    "prompt_text = \"\"\"Your task is to convert natural language requirements into LESS requirements. LESS is a controlled natural language that has following format:\n",
    "(Paste your entire prompt here)\n",
    "\"\"\"\n",
    "\n",
    "# Tokenize and count tokens\n",
    "num_tokens = len(tokenizer.encode(prompt_text))\n",
    "print(f\"Number of tokens: {num_tokens}\")\n"
   ]
  }
 ],
 "metadata": {
  "language_info": {
   "name": "python"
  }
 },
 "nbformat": 4,
 "nbformat_minor": 2
}
